{
  "nbformat": 4,
  "nbformat_minor": 0,
  "metadata": {
    "colab": {
      "provenance": []
    },
    "kernelspec": {
      "name": "python3",
      "display_name": "Python 3"
    },
    "language_info": {
      "name": "python"
    }
  },
  "cells": [
    {
      "cell_type": "code",
      "execution_count": 58,
      "metadata": {
        "id": "AfZkG3F8yQet"
      },
      "outputs": [],
      "source": [
        "import pandas as pd\n",
        "import numpy as np\n",
        "import matplotlib.pyplot as plt\n",
        "import seaborn as sns\n",
        "\n",
        "from sklearn.model_selection import train_test_split\n",
        "from sklearn.preprocessing import StandardScaler\n",
        "from sklearn.linear_model import LinearRegression\n",
        "from sklearn.ensemble import RandomForestRegressor\n",
        "from sklearn.metrics import mean_absolute_error, mean_squared_error, r2_score\n"
      ]
    },
    {
      "cell_type": "code",
      "source": [
        "df = pd.read_csv(\"players_22.csv\")\n"
      ],
      "metadata": {
        "colab": {
          "base_uri": "https://localhost:8080/"
        },
        "id": "H2OdWiPJ1DMT",
        "outputId": "038c7c4d-f913-449e-9b2a-3fcad0194e77"
      },
      "execution_count": 59,
      "outputs": [
        {
          "output_type": "stream",
          "name": "stderr",
          "text": [
            "<ipython-input-59-83330a5928c5>:1: DtypeWarning: Columns (25,108) have mixed types. Specify dtype option on import or set low_memory=False.\n",
            "  df = pd.read_csv(\"players_22.csv\")\n"
          ]
        }
      ]
    },
    {
      "cell_type": "code",
      "source": [
        "\n",
        "df[['attack_wr', 'defense_wr']] = df['work_rate'].str.split('/', expand=True)\n",
        "wr_map = {'Low': 1, 'Medium': 2, 'High': 3}\n",
        "df['attack_wr'] = df['attack_wr'].map(wr_map)\n",
        "df['defense_wr'] = df['defense_wr'].map(wr_map)\n",
        "\n",
        "\n",
        "df['work_rate_score'] = df[['attack_wr', 'defense_wr']].mean(axis=1)\n"
      ],
      "metadata": {
        "id": "0cu0wpqhHi5h"
      },
      "execution_count": 60,
      "outputs": []
    },
    {
      "cell_type": "code",
      "source": [
        "df.isnull().sum().sort_values(ascending=False)\n"
      ],
      "metadata": {
        "colab": {
          "base_uri": "https://localhost:8080/",
          "height": 458
        },
        "id": "EPDwoaY92pFt",
        "outputId": "0a10a8ef-f7d8-40c3-b45a-c7096e95b784"
      },
      "execution_count": 61,
      "outputs": [
        {
          "output_type": "execute_result",
          "data": {
            "text/plain": [
              "nation_team_id          18480\n",
              "nation_position         18480\n",
              "nation_jersey_number    18480\n",
              "nation_logo_url         18480\n",
              "club_loaned_from        18137\n",
              "                        ...  \n",
              "player_face_url             0\n",
              "nation_flag_url             0\n",
              "attack_wr                   0\n",
              "defense_wr                  0\n",
              "work_rate_score             0\n",
              "Length: 113, dtype: int64"
            ],
            "text/html": [
              "<div>\n",
              "<style scoped>\n",
              "    .dataframe tbody tr th:only-of-type {\n",
              "        vertical-align: middle;\n",
              "    }\n",
              "\n",
              "    .dataframe tbody tr th {\n",
              "        vertical-align: top;\n",
              "    }\n",
              "\n",
              "    .dataframe thead th {\n",
              "        text-align: right;\n",
              "    }\n",
              "</style>\n",
              "<table border=\"1\" class=\"dataframe\">\n",
              "  <thead>\n",
              "    <tr style=\"text-align: right;\">\n",
              "      <th></th>\n",
              "      <th>0</th>\n",
              "    </tr>\n",
              "  </thead>\n",
              "  <tbody>\n",
              "    <tr>\n",
              "      <th>nation_team_id</th>\n",
              "      <td>18480</td>\n",
              "    </tr>\n",
              "    <tr>\n",
              "      <th>nation_position</th>\n",
              "      <td>18480</td>\n",
              "    </tr>\n",
              "    <tr>\n",
              "      <th>nation_jersey_number</th>\n",
              "      <td>18480</td>\n",
              "    </tr>\n",
              "    <tr>\n",
              "      <th>nation_logo_url</th>\n",
              "      <td>18480</td>\n",
              "    </tr>\n",
              "    <tr>\n",
              "      <th>club_loaned_from</th>\n",
              "      <td>18137</td>\n",
              "    </tr>\n",
              "    <tr>\n",
              "      <th>...</th>\n",
              "      <td>...</td>\n",
              "    </tr>\n",
              "    <tr>\n",
              "      <th>player_face_url</th>\n",
              "      <td>0</td>\n",
              "    </tr>\n",
              "    <tr>\n",
              "      <th>nation_flag_url</th>\n",
              "      <td>0</td>\n",
              "    </tr>\n",
              "    <tr>\n",
              "      <th>attack_wr</th>\n",
              "      <td>0</td>\n",
              "    </tr>\n",
              "    <tr>\n",
              "      <th>defense_wr</th>\n",
              "      <td>0</td>\n",
              "    </tr>\n",
              "    <tr>\n",
              "      <th>work_rate_score</th>\n",
              "      <td>0</td>\n",
              "    </tr>\n",
              "  </tbody>\n",
              "</table>\n",
              "<p>113 rows × 1 columns</p>\n",
              "</div><br><label><b>dtype:</b> int64</label>"
            ]
          },
          "metadata": {},
          "execution_count": 61
        }
      ]
    },
    {
      "cell_type": "code",
      "source": [
        "# Kaleci (GK)\n",
        "gk_features = [\n",
        "    'goalkeeping_reflexes',\n",
        "    'goalkeeping_handling',\n",
        "    'goalkeeping_diving',\n",
        "    'goalkeeping_kicking',\n",
        "    'goalkeeping_positioning',\n",
        "    'movement_reactions',\n",
        "    'mentality_composure',\n",
        "    'height_cm',\n",
        "    'movement_agility'\n",
        "]\n",
        "\n",
        "\n",
        "\n",
        "# Defans (LB/LCB/CB/RCB/RB)\n",
        "def_features = [\n",
        "    'defending_standing_tackle',\n",
        "    'defending_marking_awareness',\n",
        "    'power_strength',\n",
        "    'pace',\n",
        "    'attacking_heading_accuracy'\n",
        "]\n",
        "\n",
        "wb_features = [\n",
        "    'pace',\n",
        "    'power_stamina',\n",
        "    'attacking_crossing',\n",
        "    'defending_standing_tackle',\n",
        "    'work_rate_score'\n",
        "]\n",
        "\n",
        "mid_features = [\n",
        "    'shooting',\n",
        "    'passing',\n",
        "    'dribbling',\n",
        "    'mentality_vision',\n",
        "    'work_rate_score'\n",
        "]\n",
        "\n",
        "# Forvet (LW/RW/LF/CF/ST, vb.)\n",
        "st_features = [\n",
        "    'attacking_finishing',\n",
        "    'power_strength',\n",
        "    'mentality_positioning',\n",
        "    'attacking_heading_accuracy',\n",
        "    'shooting'\n",
        "]\n"
      ],
      "metadata": {
        "id": "ukeHghgK21BU"
      },
      "execution_count": 62,
      "outputs": []
    },
    {
      "cell_type": "code",
      "source": [
        "def pozisyon_filtresi(df, hedef_kodlari):\n",
        "    return df[df['player_positions'].str.split(',').str[0].isin(hedef_kodlari)]\n",
        "\n",
        "pozisyon_kodlari = {\n",
        "    \"GK\": (['GK'], gk_features),\n",
        "    \"DEF\": (['LB', 'LCB', 'CB', 'RCB', 'RB'], def_features),\n",
        "    \"WB\": (['LWB', 'RWB'], wb_features),\n",
        "    \"MID\": (['CDM', 'CM', 'CAM', 'LM', 'RM', 'LAM', 'RAM', 'LCM', 'RCM', 'LDM', 'RDM'], mid_features),\n",
        "    \"ST\": (['ST', 'CF', 'LF', 'RF', 'LS', 'RS', 'LW', 'RW'], st_features),\n",
        "}"
      ],
      "metadata": {
        "id": "aJLhJlRXJFQg"
      },
      "execution_count": 63,
      "outputs": []
    },
    {
      "cell_type": "code",
      "source": [
        "\n",
        "import pandas as pd\n",
        "import numpy as np\n",
        "from sklearn.ensemble import RandomForestRegressor\n",
        "from sklearn.model_selection import KFold, cross_val_score\n",
        "\n",
        "df = pd.read_csv(\"players_22.csv\")\n",
        "\n",
        "df[['attack_wr', 'defense_wr']] = df['work_rate'].str.split('/', expand=True)\n",
        "wr_map = {'Low': 1, 'Medium': 2, 'High': 3}\n",
        "df['attack_wr'] = df['attack_wr'].map(wr_map)\n",
        "df['defense_wr'] = df['defense_wr'].map(wr_map)\n",
        "df['work_rate_score'] = df[['attack_wr', 'defense_wr']].mean(axis=1)\n",
        "\n",
        "gk_features = [\n",
        "    'goalkeeping_reflexes',\n",
        "    'goalkeeping_handling',\n",
        "    'goalkeeping_diving',\n",
        "    'goalkeeping_kicking',\n",
        "    'goalkeeping_positioning',\n",
        "    'movement_reactions',\n",
        "    'mentality_composure',\n",
        "    'height_cm',\n",
        "    'movement_agility'\n",
        "]\n",
        "\n",
        "\n",
        "def_features = [\n",
        "    'defending_standing_tackle', 'defending_marking_awareness',\n",
        "    'power_strength', 'pace', 'attacking_heading_accuracy'\n",
        "]\n",
        "\n",
        "wb_features = [\n",
        "    'pace', 'power_stamina', 'attacking_crossing',\n",
        "    'defending_standing_tackle', 'work_rate_score'\n",
        "]\n",
        "\n",
        "mid_features = [\n",
        "    'shooting', 'passing', 'dribbling', 'mentality_vision', 'work_rate_score'\n",
        "]\n",
        "\n",
        "st_features = [\n",
        "    'attacking_finishing', 'power_strength', 'mentality_positioning',\n",
        "    'attacking_heading_accuracy', 'shooting'\n",
        "]\n",
        "\n",
        "\n",
        "# Pozisyona Göre Filtreleme\n",
        "def pozisyon_filtresi(df, hedef_kodlari):\n",
        "    return df[df['player_positions'].str.split(',').str[0].isin(hedef_kodlari)]\n",
        "\n",
        "pozisyon_kodlari = {\n",
        "    \"GK\": (['GK'], gk_features),\n",
        "    \"DEF\": (['LB', 'LCB', 'CB', 'RCB', 'RB'], def_features),\n",
        "    \"WB\": (['LWB', 'RWB'], wb_features),\n",
        "    \"MID\": (['CDM', 'CM', 'CAM', 'LM', 'RM', 'LAM', 'RAM', 'LCM', 'RCM', 'LDM', 'RDM'], mid_features),\n",
        "    \"ST\": (['ST', 'CF', 'LF', 'RF', 'LS', 'RS', 'LW', 'RW'], st_features),\n",
        "}\n",
        "\n",
        "\n",
        "#Model Eğitimi + Çapraz Doğrulama\n",
        "\n",
        "cv = KFold(n_splits=5, shuffle=True, random_state=42)\n",
        "\n",
        "for poz_etiket, (poz_kodlar, ozellikler) in pozisyon_kodlari.items():\n",
        "    subset = pozisyon_filtresi(df, poz_kodlar)\n",
        "    X = subset[ozellikler].dropna()\n",
        "    y = subset.loc[X.index, 'overall']\n",
        "\n",
        "    if len(X) < 100:\n",
        "        print(f\"{poz_etiket} için yeterli veri yok ({len(X)} satır), atlanıyor.\\n\")\n",
        "        continue\n",
        "\n",
        "    model = RandomForestRegressor(n_estimators=100, random_state=42)\n",
        "\n",
        "    r2 = cross_val_score(model, X, y, cv=cv, scoring='r2')\n",
        "    mae = -cross_val_score(model, X, y, cv=cv, scoring='neg_mean_absolute_error')\n",
        "    rmse = np.sqrt(-cross_val_score(model, X, y, cv=cv, scoring='neg_mean_squared_error'))\n",
        "\n",
        "    print(f\" {poz_etiket} Modeli - 5 Katlı Çapraz Doğrulama\")\n",
        "    print(f\"R² Ort.:    {r2.mean():.4f}\")\n",
        "    print(f\"MAE Ort.:   {mae.mean():.4f}\")\n",
        "    print(f\"RMSE Ort.:  {rmse.mean():.4f}\")\n",
        "    print(\"-\" * 45)\n"
      ],
      "metadata": {
        "colab": {
          "base_uri": "https://localhost:8080/"
        },
        "id": "p77AJ8Aj3JDt",
        "outputId": "3a72a5cd-2d33-47ce-a4d6-47c66f977f70"
      },
      "execution_count": 64,
      "outputs": [
        {
          "output_type": "stream",
          "name": "stderr",
          "text": [
            "<ipython-input-64-06520dd7d8de>:12: DtypeWarning: Columns (25,108) have mixed types. Specify dtype option on import or set low_memory=False.\n",
            "  df = pd.read_csv(\"players_22.csv\")\n"
          ]
        },
        {
          "output_type": "stream",
          "name": "stdout",
          "text": [
            "📌 GK Modeli - 5 Katlı Çapraz Doğrulama\n",
            "R² Ort.:    0.9933\n",
            "MAE Ort.:   0.4526\n",
            "RMSE Ort.:  0.6168\n",
            "---------------------------------------------\n",
            "📌 DEF Modeli - 5 Katlı Çapraz Doğrulama\n",
            "R² Ort.:    0.9179\n",
            "MAE Ort.:   1.4358\n",
            "RMSE Ort.:  1.8736\n",
            "---------------------------------------------\n",
            "📌 WB Modeli - 5 Katlı Çapraz Doğrulama\n",
            "R² Ort.:    0.9310\n",
            "MAE Ort.:   1.2539\n",
            "RMSE Ort.:  1.6476\n",
            "---------------------------------------------\n",
            "📌 MID Modeli - 5 Katlı Çapraz Doğrulama\n",
            "R² Ort.:    0.8339\n",
            "MAE Ort.:   2.0684\n",
            "RMSE Ort.:  2.7929\n",
            "---------------------------------------------\n",
            "📌 ST Modeli - 5 Katlı Çapraz Doğrulama\n",
            "R² Ort.:    0.8874\n",
            "MAE Ort.:   1.7462\n",
            "RMSE Ort.:  2.3391\n",
            "---------------------------------------------\n"
          ]
        }
      ]
    },
    {
      "cell_type": "code",
      "source": [
        "# Pozisyon bazlı özellikler ve modeller\n",
        "pozisyon_ozellikleri = {\n",
        "    \"GK\": {\n",
        "        \"features\": [\n",
        "            ('goalkeeping_reflexes', 'Refleks - Yakın mesafe şutlara hızlı tepki'),\n",
        "            ('goalkeeping_handling', 'Top Tutma - Topu sektirmeme becerisi'),\n",
        "            ('goalkeeping_diving', 'Uzanma - Yana atlama ve kurtarış kabiliyeti'),\n",
        "            ('goalkeeping_kicking', 'Şut/Pas - Ayakla topu iyi oynama'),\n",
        "            ('goalkeeping_positioning', 'Pozisyon Alma - Doğru yerde durma'),\n",
        "            ('movement_reactions', 'Tepki - Ani durumlara tepki süresi'),\n",
        "            ('mentality_composure', 'Soğukkanlılık - Baskı altında karar kalitesi'),\n",
        "            ('height_cm', 'Boy (cm)'),\n",
        "            ('movement_agility', 'Çeviklik - Hızlı yön değiştirme')\n",
        "        ],\n",
        "        \"model\": gk_model\n",
        "    },\n",
        "    \"DEF\": {\n",
        "        \"features\": [\n",
        "            ('defending_standing_tackle', 'Müdahale - Ayakta top alma becerisi'),\n",
        "            ('defending_marking_awareness', 'Markaj - Adam takibi ve yerleşim'),\n",
        "            ('power_strength', 'Güç - Fiziksel mücadele seviyesi'),\n",
        "            ('pace', 'Hız - Topsuz sürat'),\n",
        "            ('attacking_heading_accuracy', 'Kafa - Hava topu hakimiyeti')\n",
        "        ],\n",
        "        \"model\": def_model\n",
        "    },\n",
        "    \"WB\": {\n",
        "        \"features\": [\n",
        "            ('pace', 'Hız - Topsuz sürat'),\n",
        "            ('power_stamina', 'Dayanıklılık - Maç boyu koşabilme'),\n",
        "            ('attacking_crossing', 'Orta Açma - Kenardan etkili pas'),\n",
        "            ('defending_standing_tackle', 'Müdahale - Savunma becerisi'),\n",
        "            ('work_rate_score', 'Çalışkanlık - Ortalama iş gücü skoru (1=Low, 2=Medium, 3=High)')\n",
        "        ],\n",
        "        \"model\": wb_model\n",
        "    },\n",
        "    \"MID\": {\n",
        "        \"features\": [\n",
        "            ('shooting', 'Şut - Genel şut becerisi'),\n",
        "            ('passing', 'Pas - Oyun kurma kabiliyeti'),\n",
        "            ('dribbling', 'Top Sürme - Rakip eksiltme'),\n",
        "            ('mentality_vision', 'Oyun Görüşü - Pas kanallarını görme'),\n",
        "            ('work_rate_score', 'Çalışkanlık - Ortalama iş gücü skoru (1=Low, 2=Medium, 3=High)')\n",
        "        ],\n",
        "        \"model\": mid_model\n",
        "    },\n",
        "    \"ST\": {\n",
        "        \"features\": [\n",
        "            ('attacking_finishing', 'Bitiricilik - Gol vuruş kalitesi'),\n",
        "            ('power_strength', 'Güç - Fiziksel dayanıklılık'),\n",
        "            ('mentality_positioning', 'Pozisyon Alma - Boş alan bulma'),\n",
        "            ('attacking_heading_accuracy', 'Kafa - Hava topu etkisi'),\n",
        "            ('shooting', 'Şut - Genel gol tehditi')\n",
        "        ],\n",
        "        \"model\": st_model\n",
        "    }\n",
        "}\n",
        "\n",
        "#  Kullanıcıdan giriş alıp tahmin yapan fonksiyon\n",
        "def pozisyona_gore_tahmin():\n",
        "    secenekler = list(pozisyon_ozellikleri.keys())\n",
        "    pozisyon = input(f\"Pozisyon seç ({'/'.join(secenekler)}): \").strip().upper()\n",
        "\n",
        "    if pozisyon not in pozisyon_ozellikleri:\n",
        "        print(\" Geçersiz pozisyon! Lütfen şunlardan birini yaz: GK, DEF, WB, MID, ST\")\n",
        "        return\n",
        "\n",
        "    ozellik_listesi = pozisyon_ozellikleri[pozisyon]['features']\n",
        "    model = pozisyon_ozellikleri[pozisyon]['model']\n",
        "\n",
        "    print(f\"\\n Seçilen pozisyon: {pozisyon}\")\n",
        "    print(\"Lütfen aşağıdaki özellik puanlarını girin (0-100 arası):\\n\")\n",
        "\n",
        "    veri = {}\n",
        "    for kod, aciklama in ozellik_listesi:\n",
        "        while True:\n",
        "            try:\n",
        "                val = float(input(f\"{aciklama}: \"))\n",
        "                if 'height' in kod:\n",
        "                    veri[kod] = val\n",
        "                    break\n",
        "                elif 0 <= val <= 100:\n",
        "                    veri[kod] = val\n",
        "                    break\n",
        "                else:\n",
        "                    print(\"0 ile 100 arasında bir değer gir.\")\n",
        "            except:\n",
        "                print(\"Geçerli bir sayı gir.\")\n",
        "\n",
        "    df_girdi = pd.DataFrame([veri])\n",
        "    tahmin = model.predict(df_girdi)[0]\n",
        "    print(f\"\\n Tahmini Overall: {round(tahmin, 2)}\")\n",
        "\n",
        "pozisyona_gore_tahmin()\n"
      ],
      "metadata": {
        "colab": {
          "base_uri": "https://localhost:8080/"
        },
        "id": "WW-lKpCt3KPU",
        "outputId": "353caada-60c3-4256-f1ef-3ea3212ad46a"
      },
      "execution_count": 65,
      "outputs": [
        {
          "output_type": "stream",
          "name": "stdout",
          "text": [
            "Pozisyon seç (GK/DEF/WB/MID/ST): MID\n",
            "\n",
            "📋 Seçilen pozisyon: MID\n",
            "Lütfen aşağıdaki özellik puanlarını girin (0-100 arası):\n",
            "\n",
            "Şut - Genel şut becerisi: 82\n",
            "Pas - Oyun kurma kabiliyeti: 79\n",
            "Top Sürme - Rakip eksiltme: 88\n",
            "Oyun Görüşü - Pas kanallarını görme: 89\n",
            "Çalışkanlık - Ortalama iş gücü skoru (1=Low, 2=Medium, 3=High): 2\n",
            "\n",
            "🎯 Tahmini Overall: 85.91\n"
          ]
        }
      ]
    },
    {
      "cell_type": "code",
      "source": [
        "import pickle\n",
        "with open(\"gk_model.pkl\", \"wb\") as f:\n",
        "    pickle.dump(gk_model, f)\n",
        "\n",
        "with open(\"def_model.pkl\", \"wb\") as f:\n",
        "    pickle.dump(def_model, f)\n",
        "\n",
        "with open(\"wb_model.pkl\", \"wb\") as f:\n",
        "    pickle.dump(wb_model, f)\n",
        "\n",
        "with open(\"mid_model.pkl\", \"wb\") as f:\n",
        "    pickle.dump(mid_model, f)\n",
        "\n",
        "with open(\"st_model.pkl\", \"wb\") as f:\n",
        "    pickle.dump(st_model, f)\n",
        "import os\n",
        "import joblib\n",
        "os.makedirs(\"models\", exist_ok=True)\n",
        "joblib.dump(gk_model, \"models/gk_model.pkl\")\n",
        "joblib.dump(def_model, \"models/def_model.pkl\")\n",
        "joblib.dump(wb_model, \"models/wb_model.pkl\")\n",
        "joblib.dump(mid_model, \"models/mid_model.pkl\")\n",
        "joblib.dump(st_model, \"models/st_model.pkl\")\n",
        "from google.colab import files\n",
        "files.download(\"models/gk_model.pkl\")\n",
        "files.download(\"models/def_model.pkl\")\n",
        "files.download(\"models/wb_model.pkl\")\n",
        "files.download(\"models/mid_model.pkl\")\n",
        "files.download(\"models/st_model.pkl\")"
      ],
      "metadata": {
        "colab": {
          "base_uri": "https://localhost:8080/",
          "height": 17
        },
        "id": "MgjKPq193rjP",
        "outputId": "34416404-ae69-4982-86e9-a6b91b738420"
      },
      "execution_count": 67,
      "outputs": [
        {
          "output_type": "display_data",
          "data": {
            "text/plain": [
              "<IPython.core.display.Javascript object>"
            ],
            "application/javascript": [
              "\n",
              "    async function download(id, filename, size) {\n",
              "      if (!google.colab.kernel.accessAllowed) {\n",
              "        return;\n",
              "      }\n",
              "      const div = document.createElement('div');\n",
              "      const label = document.createElement('label');\n",
              "      label.textContent = `Downloading \"${filename}\": `;\n",
              "      div.appendChild(label);\n",
              "      const progress = document.createElement('progress');\n",
              "      progress.max = size;\n",
              "      div.appendChild(progress);\n",
              "      document.body.appendChild(div);\n",
              "\n",
              "      const buffers = [];\n",
              "      let downloaded = 0;\n",
              "\n",
              "      const channel = await google.colab.kernel.comms.open(id);\n",
              "      // Send a message to notify the kernel that we're ready.\n",
              "      channel.send({})\n",
              "\n",
              "      for await (const message of channel.messages) {\n",
              "        // Send a message to notify the kernel that we're ready.\n",
              "        channel.send({})\n",
              "        if (message.buffers) {\n",
              "          for (const buffer of message.buffers) {\n",
              "            buffers.push(buffer);\n",
              "            downloaded += buffer.byteLength;\n",
              "            progress.value = downloaded;\n",
              "          }\n",
              "        }\n",
              "      }\n",
              "      const blob = new Blob(buffers, {type: 'application/binary'});\n",
              "      const a = document.createElement('a');\n",
              "      a.href = window.URL.createObjectURL(blob);\n",
              "      a.download = filename;\n",
              "      div.appendChild(a);\n",
              "      a.click();\n",
              "      div.remove();\n",
              "    }\n",
              "  "
            ]
          },
          "metadata": {}
        },
        {
          "output_type": "display_data",
          "data": {
            "text/plain": [
              "<IPython.core.display.Javascript object>"
            ],
            "application/javascript": [
              "download(\"download_2d1f27ec-74f5-40f0-a0da-05b391aaeb38\", \"gk_model.pkl\", 93316801)"
            ]
          },
          "metadata": {}
        },
        {
          "output_type": "display_data",
          "data": {
            "text/plain": [
              "<IPython.core.display.Javascript object>"
            ],
            "application/javascript": [
              "\n",
              "    async function download(id, filename, size) {\n",
              "      if (!google.colab.kernel.accessAllowed) {\n",
              "        return;\n",
              "      }\n",
              "      const div = document.createElement('div');\n",
              "      const label = document.createElement('label');\n",
              "      label.textContent = `Downloading \"${filename}\": `;\n",
              "      div.appendChild(label);\n",
              "      const progress = document.createElement('progress');\n",
              "      progress.max = size;\n",
              "      div.appendChild(progress);\n",
              "      document.body.appendChild(div);\n",
              "\n",
              "      const buffers = [];\n",
              "      let downloaded = 0;\n",
              "\n",
              "      const channel = await google.colab.kernel.comms.open(id);\n",
              "      // Send a message to notify the kernel that we're ready.\n",
              "      channel.send({})\n",
              "\n",
              "      for await (const message of channel.messages) {\n",
              "        // Send a message to notify the kernel that we're ready.\n",
              "        channel.send({})\n",
              "        if (message.buffers) {\n",
              "          for (const buffer of message.buffers) {\n",
              "            buffers.push(buffer);\n",
              "            downloaded += buffer.byteLength;\n",
              "            progress.value = downloaded;\n",
              "          }\n",
              "        }\n",
              "      }\n",
              "      const blob = new Blob(buffers, {type: 'application/binary'});\n",
              "      const a = document.createElement('a');\n",
              "      a.href = window.URL.createObjectURL(blob);\n",
              "      a.download = filename;\n",
              "      div.appendChild(a);\n",
              "      a.click();\n",
              "      div.remove();\n",
              "    }\n",
              "  "
            ]
          },
          "metadata": {}
        },
        {
          "output_type": "display_data",
          "data": {
            "text/plain": [
              "<IPython.core.display.Javascript object>"
            ],
            "application/javascript": [
              "download(\"download_e352a658-e6bd-455d-8172-48541075d84d\", \"def_model.pkl\", 75041617)"
            ]
          },
          "metadata": {}
        },
        {
          "output_type": "display_data",
          "data": {
            "text/plain": [
              "<IPython.core.display.Javascript object>"
            ],
            "application/javascript": [
              "\n",
              "    async function download(id, filename, size) {\n",
              "      if (!google.colab.kernel.accessAllowed) {\n",
              "        return;\n",
              "      }\n",
              "      const div = document.createElement('div');\n",
              "      const label = document.createElement('label');\n",
              "      label.textContent = `Downloading \"${filename}\": `;\n",
              "      div.appendChild(label);\n",
              "      const progress = document.createElement('progress');\n",
              "      progress.max = size;\n",
              "      div.appendChild(progress);\n",
              "      document.body.appendChild(div);\n",
              "\n",
              "      const buffers = [];\n",
              "      let downloaded = 0;\n",
              "\n",
              "      const channel = await google.colab.kernel.comms.open(id);\n",
              "      // Send a message to notify the kernel that we're ready.\n",
              "      channel.send({})\n",
              "\n",
              "      for await (const message of channel.messages) {\n",
              "        // Send a message to notify the kernel that we're ready.\n",
              "        channel.send({})\n",
              "        if (message.buffers) {\n",
              "          for (const buffer of message.buffers) {\n",
              "            buffers.push(buffer);\n",
              "            downloaded += buffer.byteLength;\n",
              "            progress.value = downloaded;\n",
              "          }\n",
              "        }\n",
              "      }\n",
              "      const blob = new Blob(buffers, {type: 'application/binary'});\n",
              "      const a = document.createElement('a');\n",
              "      a.href = window.URL.createObjectURL(blob);\n",
              "      a.download = filename;\n",
              "      div.appendChild(a);\n",
              "      a.click();\n",
              "      div.remove();\n",
              "    }\n",
              "  "
            ]
          },
          "metadata": {}
        },
        {
          "output_type": "display_data",
          "data": {
            "text/plain": [
              "<IPython.core.display.Javascript object>"
            ],
            "application/javascript": [
              "download(\"download_233cd1c8-eb7f-4320-9699-c484f7d76c44\", \"wb_model.pkl\", 75116769)"
            ]
          },
          "metadata": {}
        },
        {
          "output_type": "display_data",
          "data": {
            "text/plain": [
              "<IPython.core.display.Javascript object>"
            ],
            "application/javascript": [
              "\n",
              "    async function download(id, filename, size) {\n",
              "      if (!google.colab.kernel.accessAllowed) {\n",
              "        return;\n",
              "      }\n",
              "      const div = document.createElement('div');\n",
              "      const label = document.createElement('label');\n",
              "      label.textContent = `Downloading \"${filename}\": `;\n",
              "      div.appendChild(label);\n",
              "      const progress = document.createElement('progress');\n",
              "      progress.max = size;\n",
              "      div.appendChild(progress);\n",
              "      document.body.appendChild(div);\n",
              "\n",
              "      const buffers = [];\n",
              "      let downloaded = 0;\n",
              "\n",
              "      const channel = await google.colab.kernel.comms.open(id);\n",
              "      // Send a message to notify the kernel that we're ready.\n",
              "      channel.send({})\n",
              "\n",
              "      for await (const message of channel.messages) {\n",
              "        // Send a message to notify the kernel that we're ready.\n",
              "        channel.send({})\n",
              "        if (message.buffers) {\n",
              "          for (const buffer of message.buffers) {\n",
              "            buffers.push(buffer);\n",
              "            downloaded += buffer.byteLength;\n",
              "            progress.value = downloaded;\n",
              "          }\n",
              "        }\n",
              "      }\n",
              "      const blob = new Blob(buffers, {type: 'application/binary'});\n",
              "      const a = document.createElement('a');\n",
              "      a.href = window.URL.createObjectURL(blob);\n",
              "      a.download = filename;\n",
              "      div.appendChild(a);\n",
              "      a.click();\n",
              "      div.remove();\n",
              "    }\n",
              "  "
            ]
          },
          "metadata": {}
        },
        {
          "output_type": "display_data",
          "data": {
            "text/plain": [
              "<IPython.core.display.Javascript object>"
            ],
            "application/javascript": [
              "download(\"download_16aed2c5-3c1e-4014-b9a9-566af6f0f339\", \"mid_model.pkl\", 77162849)"
            ]
          },
          "metadata": {}
        },
        {
          "output_type": "display_data",
          "data": {
            "text/plain": [
              "<IPython.core.display.Javascript object>"
            ],
            "application/javascript": [
              "\n",
              "    async function download(id, filename, size) {\n",
              "      if (!google.colab.kernel.accessAllowed) {\n",
              "        return;\n",
              "      }\n",
              "      const div = document.createElement('div');\n",
              "      const label = document.createElement('label');\n",
              "      label.textContent = `Downloading \"${filename}\": `;\n",
              "      div.appendChild(label);\n",
              "      const progress = document.createElement('progress');\n",
              "      progress.max = size;\n",
              "      div.appendChild(progress);\n",
              "      document.body.appendChild(div);\n",
              "\n",
              "      const buffers = [];\n",
              "      let downloaded = 0;\n",
              "\n",
              "      const channel = await google.colab.kernel.comms.open(id);\n",
              "      // Send a message to notify the kernel that we're ready.\n",
              "      channel.send({})\n",
              "\n",
              "      for await (const message of channel.messages) {\n",
              "        // Send a message to notify the kernel that we're ready.\n",
              "        channel.send({})\n",
              "        if (message.buffers) {\n",
              "          for (const buffer of message.buffers) {\n",
              "            buffers.push(buffer);\n",
              "            downloaded += buffer.byteLength;\n",
              "            progress.value = downloaded;\n",
              "          }\n",
              "        }\n",
              "      }\n",
              "      const blob = new Blob(buffers, {type: 'application/binary'});\n",
              "      const a = document.createElement('a');\n",
              "      a.href = window.URL.createObjectURL(blob);\n",
              "      a.download = filename;\n",
              "      div.appendChild(a);\n",
              "      a.click();\n",
              "      div.remove();\n",
              "    }\n",
              "  "
            ]
          },
          "metadata": {}
        },
        {
          "output_type": "display_data",
          "data": {
            "text/plain": [
              "<IPython.core.display.Javascript object>"
            ],
            "application/javascript": [
              "download(\"download_a0522079-3db2-44a5-b733-2f29ac9b8a55\", \"st_model.pkl\", 76267633)"
            ]
          },
          "metadata": {}
        }
      ]
    },
    {
      "cell_type": "code",
      "source": [],
      "metadata": {
        "id": "xbWQ7bXROUda"
      },
      "execution_count": null,
      "outputs": []
    }
  ]
}